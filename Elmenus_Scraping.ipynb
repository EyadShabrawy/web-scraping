{
 "cells": [
  {
   "cell_type": "code",
   "execution_count": 1,
   "id": "17469116",
   "metadata": {},
   "outputs": [],
   "source": [
    "from selenium import webdriver\n",
    "from selenium.webdriver.common.keys import Keys\n",
    "from selenium.webdriver.chrome.options import Options\n",
    "from selenium.webdriver.common.by import By\n",
    "from selenium.webdriver.chrome import service\n",
    "\n",
    "import time"
   ]
  },
  {
   "cell_type": "code",
   "execution_count": 2,
   "id": "17b424a0",
   "metadata": {},
   "outputs": [],
   "source": [
    "url=\"https://www.elmenus.com/cairo/search-el-menus\""
   ]
  },
  {
   "cell_type": "code",
   "execution_count": 3,
   "id": "2307e880",
   "metadata": {},
   "outputs": [],
   "source": [
    "webdriver_service = service.Service(\"C:\\webdrivers\\chromedriver.exe\")"
   ]
  },
  {
   "cell_type": "code",
   "execution_count": 4,
   "id": "d5f062fb",
   "metadata": {},
   "outputs": [],
   "source": [
    "browser = webdriver.Chrome(service = webdriver_service)\n",
    "browser.get(url)"
   ]
  },
  {
   "cell_type": "code",
   "execution_count": 5,
   "id": "cd2748b4",
   "metadata": {},
   "outputs": [],
   "source": [
    "# //div[@class=\"card-content.clickable-item\"]/a\n",
    "link_objects = browser.find_elements(\"xpath\", '//div[@class=\"card-content clickable-item\"]/a[1]' )"
   ]
  },
  {
   "cell_type": "code",
   "execution_count": 6,
   "id": "3f554070",
   "metadata": {},
   "outputs": [
    {
     "data": {
      "text/plain": [
       "[<selenium.webdriver.remote.webelement.WebElement (session=\"152e801a2e725fa01d4c3cce2a543235\", element=\"e16dcf4d-b736-4847-a6e2-36c5da162d71\")>,\n",
       " <selenium.webdriver.remote.webelement.WebElement (session=\"152e801a2e725fa01d4c3cce2a543235\", element=\"3d747e0f-bb35-43a7-a241-e7682bfe33cb\")>,\n",
       " <selenium.webdriver.remote.webelement.WebElement (session=\"152e801a2e725fa01d4c3cce2a543235\", element=\"432c920c-f6ba-4af8-9013-cb1e4bae1c1b\")>,\n",
       " <selenium.webdriver.remote.webelement.WebElement (session=\"152e801a2e725fa01d4c3cce2a543235\", element=\"b20d8b23-d5f6-4b66-a394-03d5b0c7f5a9\")>,\n",
       " <selenium.webdriver.remote.webelement.WebElement (session=\"152e801a2e725fa01d4c3cce2a543235\", element=\"23c54c59-8979-4dfc-b304-396464558af0\")>,\n",
       " <selenium.webdriver.remote.webelement.WebElement (session=\"152e801a2e725fa01d4c3cce2a543235\", element=\"f7d55ab1-d111-43a2-ac5b-a6b78545c23b\")>,\n",
       " <selenium.webdriver.remote.webelement.WebElement (session=\"152e801a2e725fa01d4c3cce2a543235\", element=\"b0995835-eede-455f-9932-4d3ccf99778c\")>,\n",
       " <selenium.webdriver.remote.webelement.WebElement (session=\"152e801a2e725fa01d4c3cce2a543235\", element=\"d0aaa69c-3dfe-4815-a041-8ee6ef415e9a\")>,\n",
       " <selenium.webdriver.remote.webelement.WebElement (session=\"152e801a2e725fa01d4c3cce2a543235\", element=\"eda8b305-2925-452d-aec8-83b2461f52ea\")>,\n",
       " <selenium.webdriver.remote.webelement.WebElement (session=\"152e801a2e725fa01d4c3cce2a543235\", element=\"e79e9512-b075-41e3-b1eb-902a1e4cfa17\")>,\n",
       " <selenium.webdriver.remote.webelement.WebElement (session=\"152e801a2e725fa01d4c3cce2a543235\", element=\"2aa0cbb6-9c26-4b18-bf41-402b6f6d2e16\")>,\n",
       " <selenium.webdriver.remote.webelement.WebElement (session=\"152e801a2e725fa01d4c3cce2a543235\", element=\"a697706d-fd86-4207-abaa-d8aa23018716\")>]"
      ]
     },
     "execution_count": 6,
     "metadata": {},
     "output_type": "execute_result"
    }
   ],
   "source": [
    "link_objects"
   ]
  },
  {
   "cell_type": "code",
   "execution_count": 7,
   "id": "ded1505c",
   "metadata": {},
   "outputs": [],
   "source": [
    "links=[]\n",
    "for link in link_objects:\n",
    "    links.append(link.get_attribute('href'))"
   ]
  },
  {
   "cell_type": "code",
   "execution_count": 8,
   "id": "5db69aa6",
   "metadata": {},
   "outputs": [
    {
     "data": {
      "text/plain": [
       "['https://www.elmenus.com/cairo/eldahan-2x73',\n",
       " 'https://www.elmenus.com/cairo/el-abd-2zpy',\n",
       " 'https://www.elmenus.com/cairo/koshary-el-tahrir-v2g7',\n",
       " 'https://www.elmenus.com/cairo/abo-mazen-el-soury-woa5',\n",
       " 'https://www.elmenus.com/cairo/alagha-p6pzw',\n",
       " 'https://www.elmenus.com/cairo/anas-al-demashky-qr3r',\n",
       " 'https://www.elmenus.com/cairo/ezz-el-menoufy-nry7',\n",
       " 'https://www.elmenus.com/cairo/el-tabei-el-domiaty-l5d4',\n",
       " 'https://www.elmenus.com/cairo/abou-anas-el-soury-7qov',\n",
       " 'https://www.elmenus.com/cairo/shawerma-el-reem-lnmg',\n",
       " 'https://www.elmenus.com/cairo/arabiata-el-shabrawy-59yq',\n",
       " 'https://www.elmenus.com/cairo/ibn-alsham-zw5o']"
      ]
     },
     "execution_count": 8,
     "metadata": {},
     "output_type": "execute_result"
    }
   ],
   "source": [
    "links"
   ]
  },
  {
   "cell_type": "code",
   "execution_count": 9,
   "id": "479e46c4",
   "metadata": {},
   "outputs": [],
   "source": [
    "name_objects = browser.find_elements(By.CLASS_NAME, \"card-title\")\n",
    "name_list= [ ]\n",
    "for name in name_objects:\n",
    "    name_list.append(name.text)"
   ]
  },
  {
   "cell_type": "code",
   "execution_count": 10,
   "id": "7b9cda15",
   "metadata": {},
   "outputs": [
    {
     "data": {
      "text/plain": [
       "['ElDahan',\n",
       " 'El Abd',\n",
       " 'Koshary El Tahrir',\n",
       " 'Abo Mazen El Soury',\n",
       " 'Alagha',\n",
       " 'Anas Al Demashky',\n",
       " 'Ezz El Menoufy',\n",
       " 'El Tabei El Domiaty',\n",
       " 'Abou Anas El Soury',\n",
       " 'Shawerma El Reem',\n",
       " 'Arabiata El Shabrawy',\n",
       " 'Ibn AlSham']"
      ]
     },
     "execution_count": 10,
     "metadata": {},
     "output_type": "execute_result"
    }
   ],
   "source": [
    "name_list"
   ]
  },
  {
   "cell_type": "code",
   "execution_count": 11,
   "id": "c02f8840",
   "metadata": {},
   "outputs": [],
   "source": [
    "type_objects = browser.find_elements(By.CLASS_NAME, \"cuisines-list.h-dots-list.truncate\")\n",
    "type_list= [ ]\n",
    "for type in type_objects:\n",
    "    type_list.append(type.text)"
   ]
  },
  {
   "cell_type": "code",
   "execution_count": 12,
   "id": "d3c9c1eb",
   "metadata": {},
   "outputs": [
    {
     "data": {
      "text/plain": [
       "['Egyptian Oriental Grill Sandwiches',\n",
       " 'Tarts and chocolates Bakeries Desserts',\n",
       " 'Egyptian Fast Food',\n",
       " 'Syrian Fast Food Shawerma Sandwiches',\n",
       " 'Syrian Pizza Shawerma',\n",
       " 'Syrian Shawerma Grill',\n",
       " 'Egyptian Fast Food Oriental',\n",
       " 'Egyptian Foul we Ta3meya Oriental',\n",
       " 'Syrian Fast Food Sandwiches',\n",
       " 'Syrian Fast Food Shawerma',\n",
       " 'Egyptian Foul we Ta3meya Oriental Sandwiches',\n",
       " 'Syrian Chicken Grill']"
      ]
     },
     "execution_count": 12,
     "metadata": {},
     "output_type": "execute_result"
    }
   ],
   "source": [
    "type_list"
   ]
  },
  {
   "cell_type": "code",
   "execution_count": 13,
   "id": "185e06f4",
   "metadata": {},
   "outputs": [],
   "source": [
    "rating_objects = browser.find_elements(By.CLASS_NAME, \"reviews-count\")\n",
    "rating_list= [ ]\n",
    "for rating in rating_objects:\n",
    "    rating_list.append(rating.text)"
   ]
  },
  {
   "cell_type": "code",
   "execution_count": 14,
   "id": "cd99773b",
   "metadata": {},
   "outputs": [
    {
     "data": {
      "text/plain": [
       "['93341 Ratings',\n",
       " '43764 Ratings',\n",
       " '23354 Ratings',\n",
       " '32265 Ratings',\n",
       " '18422 Ratings',\n",
       " '48664 Ratings',\n",
       " '21073 Ratings',\n",
       " '9875 Ratings',\n",
       " '46995 Ratings',\n",
       " '8097 Ratings',\n",
       " '24993 Ratings',\n",
       " '101822 Ratings']"
      ]
     },
     "execution_count": 14,
     "metadata": {},
     "output_type": "execute_result"
    }
   ],
   "source": [
    "rating_list"
   ]
  },
  {
   "cell_type": "code",
   "execution_count": null,
   "id": "05d6c5f7",
   "metadata": {},
   "outputs": [],
   "source": []
  },
  {
   "cell_type": "code",
   "execution_count": null,
   "id": "dc57aac6",
   "metadata": {},
   "outputs": [],
   "source": []
  },
  {
   "cell_type": "code",
   "execution_count": 15,
   "id": "0330f6ee",
   "metadata": {},
   "outputs": [],
   "source": [
    "import pandas as pd\n",
    "data = {\n",
    "    \"Name\": name_list,\n",
    "    \"Link\": links,\n",
    "    \"Type\": type_list,\n",
    "    \"Ratings\": rating_list,\n",
    "}"
   ]
  },
  {
   "cell_type": "code",
   "execution_count": 16,
   "id": "32b0035b",
   "metadata": {},
   "outputs": [],
   "source": [
    "df = pd.DataFrame.from_dict(data)"
   ]
  },
  {
   "cell_type": "code",
   "execution_count": 17,
   "id": "0ec1c2e6",
   "metadata": {},
   "outputs": [
    {
     "data": {
      "text/html": [
       "<div>\n",
       "<style scoped>\n",
       "    .dataframe tbody tr th:only-of-type {\n",
       "        vertical-align: middle;\n",
       "    }\n",
       "\n",
       "    .dataframe tbody tr th {\n",
       "        vertical-align: top;\n",
       "    }\n",
       "\n",
       "    .dataframe thead th {\n",
       "        text-align: right;\n",
       "    }\n",
       "</style>\n",
       "<table border=\"1\" class=\"dataframe\">\n",
       "  <thead>\n",
       "    <tr style=\"text-align: right;\">\n",
       "      <th></th>\n",
       "      <th>Name</th>\n",
       "      <th>Link</th>\n",
       "      <th>Type</th>\n",
       "      <th>Ratings</th>\n",
       "    </tr>\n",
       "  </thead>\n",
       "  <tbody>\n",
       "    <tr>\n",
       "      <th>0</th>\n",
       "      <td>ElDahan</td>\n",
       "      <td>https://www.elmenus.com/cairo/eldahan-2x73</td>\n",
       "      <td>Egyptian Oriental Grill Sandwiches</td>\n",
       "      <td>93341 Ratings</td>\n",
       "    </tr>\n",
       "    <tr>\n",
       "      <th>1</th>\n",
       "      <td>El Abd</td>\n",
       "      <td>https://www.elmenus.com/cairo/el-abd-2zpy</td>\n",
       "      <td>Tarts and chocolates Bakeries Desserts</td>\n",
       "      <td>43764 Ratings</td>\n",
       "    </tr>\n",
       "    <tr>\n",
       "      <th>2</th>\n",
       "      <td>Koshary El Tahrir</td>\n",
       "      <td>https://www.elmenus.com/cairo/koshary-el-tahri...</td>\n",
       "      <td>Egyptian Fast Food</td>\n",
       "      <td>23354 Ratings</td>\n",
       "    </tr>\n",
       "    <tr>\n",
       "      <th>3</th>\n",
       "      <td>Abo Mazen El Soury</td>\n",
       "      <td>https://www.elmenus.com/cairo/abo-mazen-el-sou...</td>\n",
       "      <td>Syrian Fast Food Shawerma Sandwiches</td>\n",
       "      <td>32265 Ratings</td>\n",
       "    </tr>\n",
       "    <tr>\n",
       "      <th>4</th>\n",
       "      <td>Alagha</td>\n",
       "      <td>https://www.elmenus.com/cairo/alagha-p6pzw</td>\n",
       "      <td>Syrian Pizza Shawerma</td>\n",
       "      <td>18422 Ratings</td>\n",
       "    </tr>\n",
       "    <tr>\n",
       "      <th>5</th>\n",
       "      <td>Anas Al Demashky</td>\n",
       "      <td>https://www.elmenus.com/cairo/anas-al-demashky...</td>\n",
       "      <td>Syrian Shawerma Grill</td>\n",
       "      <td>48664 Ratings</td>\n",
       "    </tr>\n",
       "    <tr>\n",
       "      <th>6</th>\n",
       "      <td>Ezz El Menoufy</td>\n",
       "      <td>https://www.elmenus.com/cairo/ezz-el-menoufy-nry7</td>\n",
       "      <td>Egyptian Fast Food Oriental</td>\n",
       "      <td>21073 Ratings</td>\n",
       "    </tr>\n",
       "    <tr>\n",
       "      <th>7</th>\n",
       "      <td>El Tabei El Domiaty</td>\n",
       "      <td>https://www.elmenus.com/cairo/el-tabei-el-domi...</td>\n",
       "      <td>Egyptian Foul we Ta3meya Oriental</td>\n",
       "      <td>9875 Ratings</td>\n",
       "    </tr>\n",
       "    <tr>\n",
       "      <th>8</th>\n",
       "      <td>Abou Anas El Soury</td>\n",
       "      <td>https://www.elmenus.com/cairo/abou-anas-el-sou...</td>\n",
       "      <td>Syrian Fast Food Sandwiches</td>\n",
       "      <td>46995 Ratings</td>\n",
       "    </tr>\n",
       "    <tr>\n",
       "      <th>9</th>\n",
       "      <td>Shawerma El Reem</td>\n",
       "      <td>https://www.elmenus.com/cairo/shawerma-el-reem...</td>\n",
       "      <td>Syrian Fast Food Shawerma</td>\n",
       "      <td>8097 Ratings</td>\n",
       "    </tr>\n",
       "    <tr>\n",
       "      <th>10</th>\n",
       "      <td>Arabiata El Shabrawy</td>\n",
       "      <td>https://www.elmenus.com/cairo/arabiata-el-shab...</td>\n",
       "      <td>Egyptian Foul we Ta3meya Oriental Sandwiches</td>\n",
       "      <td>24993 Ratings</td>\n",
       "    </tr>\n",
       "    <tr>\n",
       "      <th>11</th>\n",
       "      <td>Ibn AlSham</td>\n",
       "      <td>https://www.elmenus.com/cairo/ibn-alsham-zw5o</td>\n",
       "      <td>Syrian Chicken Grill</td>\n",
       "      <td>101822 Ratings</td>\n",
       "    </tr>\n",
       "  </tbody>\n",
       "</table>\n",
       "</div>"
      ],
      "text/plain": [
       "                    Name                                               Link  \\\n",
       "0                ElDahan         https://www.elmenus.com/cairo/eldahan-2x73   \n",
       "1                 El Abd          https://www.elmenus.com/cairo/el-abd-2zpy   \n",
       "2      Koshary El Tahrir  https://www.elmenus.com/cairo/koshary-el-tahri...   \n",
       "3     Abo Mazen El Soury  https://www.elmenus.com/cairo/abo-mazen-el-sou...   \n",
       "4                 Alagha         https://www.elmenus.com/cairo/alagha-p6pzw   \n",
       "5       Anas Al Demashky  https://www.elmenus.com/cairo/anas-al-demashky...   \n",
       "6         Ezz El Menoufy  https://www.elmenus.com/cairo/ezz-el-menoufy-nry7   \n",
       "7    El Tabei El Domiaty  https://www.elmenus.com/cairo/el-tabei-el-domi...   \n",
       "8     Abou Anas El Soury  https://www.elmenus.com/cairo/abou-anas-el-sou...   \n",
       "9       Shawerma El Reem  https://www.elmenus.com/cairo/shawerma-el-reem...   \n",
       "10  Arabiata El Shabrawy  https://www.elmenus.com/cairo/arabiata-el-shab...   \n",
       "11            Ibn AlSham      https://www.elmenus.com/cairo/ibn-alsham-zw5o   \n",
       "\n",
       "                                            Type         Ratings  \n",
       "0             Egyptian Oriental Grill Sandwiches   93341 Ratings  \n",
       "1         Tarts and chocolates Bakeries Desserts   43764 Ratings  \n",
       "2                             Egyptian Fast Food   23354 Ratings  \n",
       "3           Syrian Fast Food Shawerma Sandwiches   32265 Ratings  \n",
       "4                          Syrian Pizza Shawerma   18422 Ratings  \n",
       "5                          Syrian Shawerma Grill   48664 Ratings  \n",
       "6                    Egyptian Fast Food Oriental   21073 Ratings  \n",
       "7              Egyptian Foul we Ta3meya Oriental    9875 Ratings  \n",
       "8                    Syrian Fast Food Sandwiches   46995 Ratings  \n",
       "9                      Syrian Fast Food Shawerma    8097 Ratings  \n",
       "10  Egyptian Foul we Ta3meya Oriental Sandwiches   24993 Ratings  \n",
       "11                          Syrian Chicken Grill  101822 Ratings  "
      ]
     },
     "execution_count": 17,
     "metadata": {},
     "output_type": "execute_result"
    }
   ],
   "source": [
    "df"
   ]
  },
  {
   "cell_type": "code",
   "execution_count": 18,
   "id": "cf0a0339",
   "metadata": {},
   "outputs": [],
   "source": [
    "df[\"Ratings\"] = df[\"Ratings\"].apply(lambda s: s.replace(\" Ratings\", \"\") )"
   ]
  },
  {
   "cell_type": "code",
   "execution_count": 19,
   "id": "e47c8d75",
   "metadata": {},
   "outputs": [
    {
     "data": {
      "text/html": [
       "<div>\n",
       "<style scoped>\n",
       "    .dataframe tbody tr th:only-of-type {\n",
       "        vertical-align: middle;\n",
       "    }\n",
       "\n",
       "    .dataframe tbody tr th {\n",
       "        vertical-align: top;\n",
       "    }\n",
       "\n",
       "    .dataframe thead th {\n",
       "        text-align: right;\n",
       "    }\n",
       "</style>\n",
       "<table border=\"1\" class=\"dataframe\">\n",
       "  <thead>\n",
       "    <tr style=\"text-align: right;\">\n",
       "      <th></th>\n",
       "      <th>Name</th>\n",
       "      <th>Link</th>\n",
       "      <th>Type</th>\n",
       "      <th>Ratings</th>\n",
       "    </tr>\n",
       "  </thead>\n",
       "  <tbody>\n",
       "    <tr>\n",
       "      <th>0</th>\n",
       "      <td>ElDahan</td>\n",
       "      <td>https://www.elmenus.com/cairo/eldahan-2x73</td>\n",
       "      <td>Egyptian Oriental Grill Sandwiches</td>\n",
       "      <td>93341</td>\n",
       "    </tr>\n",
       "    <tr>\n",
       "      <th>1</th>\n",
       "      <td>El Abd</td>\n",
       "      <td>https://www.elmenus.com/cairo/el-abd-2zpy</td>\n",
       "      <td>Tarts and chocolates Bakeries Desserts</td>\n",
       "      <td>43764</td>\n",
       "    </tr>\n",
       "    <tr>\n",
       "      <th>2</th>\n",
       "      <td>Koshary El Tahrir</td>\n",
       "      <td>https://www.elmenus.com/cairo/koshary-el-tahri...</td>\n",
       "      <td>Egyptian Fast Food</td>\n",
       "      <td>23354</td>\n",
       "    </tr>\n",
       "    <tr>\n",
       "      <th>3</th>\n",
       "      <td>Abo Mazen El Soury</td>\n",
       "      <td>https://www.elmenus.com/cairo/abo-mazen-el-sou...</td>\n",
       "      <td>Syrian Fast Food Shawerma Sandwiches</td>\n",
       "      <td>32265</td>\n",
       "    </tr>\n",
       "    <tr>\n",
       "      <th>4</th>\n",
       "      <td>Alagha</td>\n",
       "      <td>https://www.elmenus.com/cairo/alagha-p6pzw</td>\n",
       "      <td>Syrian Pizza Shawerma</td>\n",
       "      <td>18422</td>\n",
       "    </tr>\n",
       "    <tr>\n",
       "      <th>5</th>\n",
       "      <td>Anas Al Demashky</td>\n",
       "      <td>https://www.elmenus.com/cairo/anas-al-demashky...</td>\n",
       "      <td>Syrian Shawerma Grill</td>\n",
       "      <td>48664</td>\n",
       "    </tr>\n",
       "    <tr>\n",
       "      <th>6</th>\n",
       "      <td>Ezz El Menoufy</td>\n",
       "      <td>https://www.elmenus.com/cairo/ezz-el-menoufy-nry7</td>\n",
       "      <td>Egyptian Fast Food Oriental</td>\n",
       "      <td>21073</td>\n",
       "    </tr>\n",
       "    <tr>\n",
       "      <th>7</th>\n",
       "      <td>El Tabei El Domiaty</td>\n",
       "      <td>https://www.elmenus.com/cairo/el-tabei-el-domi...</td>\n",
       "      <td>Egyptian Foul we Ta3meya Oriental</td>\n",
       "      <td>9875</td>\n",
       "    </tr>\n",
       "    <tr>\n",
       "      <th>8</th>\n",
       "      <td>Abou Anas El Soury</td>\n",
       "      <td>https://www.elmenus.com/cairo/abou-anas-el-sou...</td>\n",
       "      <td>Syrian Fast Food Sandwiches</td>\n",
       "      <td>46995</td>\n",
       "    </tr>\n",
       "    <tr>\n",
       "      <th>9</th>\n",
       "      <td>Shawerma El Reem</td>\n",
       "      <td>https://www.elmenus.com/cairo/shawerma-el-reem...</td>\n",
       "      <td>Syrian Fast Food Shawerma</td>\n",
       "      <td>8097</td>\n",
       "    </tr>\n",
       "    <tr>\n",
       "      <th>10</th>\n",
       "      <td>Arabiata El Shabrawy</td>\n",
       "      <td>https://www.elmenus.com/cairo/arabiata-el-shab...</td>\n",
       "      <td>Egyptian Foul we Ta3meya Oriental Sandwiches</td>\n",
       "      <td>24993</td>\n",
       "    </tr>\n",
       "    <tr>\n",
       "      <th>11</th>\n",
       "      <td>Ibn AlSham</td>\n",
       "      <td>https://www.elmenus.com/cairo/ibn-alsham-zw5o</td>\n",
       "      <td>Syrian Chicken Grill</td>\n",
       "      <td>101822</td>\n",
       "    </tr>\n",
       "  </tbody>\n",
       "</table>\n",
       "</div>"
      ],
      "text/plain": [
       "                    Name                                               Link  \\\n",
       "0                ElDahan         https://www.elmenus.com/cairo/eldahan-2x73   \n",
       "1                 El Abd          https://www.elmenus.com/cairo/el-abd-2zpy   \n",
       "2      Koshary El Tahrir  https://www.elmenus.com/cairo/koshary-el-tahri...   \n",
       "3     Abo Mazen El Soury  https://www.elmenus.com/cairo/abo-mazen-el-sou...   \n",
       "4                 Alagha         https://www.elmenus.com/cairo/alagha-p6pzw   \n",
       "5       Anas Al Demashky  https://www.elmenus.com/cairo/anas-al-demashky...   \n",
       "6         Ezz El Menoufy  https://www.elmenus.com/cairo/ezz-el-menoufy-nry7   \n",
       "7    El Tabei El Domiaty  https://www.elmenus.com/cairo/el-tabei-el-domi...   \n",
       "8     Abou Anas El Soury  https://www.elmenus.com/cairo/abou-anas-el-sou...   \n",
       "9       Shawerma El Reem  https://www.elmenus.com/cairo/shawerma-el-reem...   \n",
       "10  Arabiata El Shabrawy  https://www.elmenus.com/cairo/arabiata-el-shab...   \n",
       "11            Ibn AlSham      https://www.elmenus.com/cairo/ibn-alsham-zw5o   \n",
       "\n",
       "                                            Type Ratings  \n",
       "0             Egyptian Oriental Grill Sandwiches   93341  \n",
       "1         Tarts and chocolates Bakeries Desserts   43764  \n",
       "2                             Egyptian Fast Food   23354  \n",
       "3           Syrian Fast Food Shawerma Sandwiches   32265  \n",
       "4                          Syrian Pizza Shawerma   18422  \n",
       "5                          Syrian Shawerma Grill   48664  \n",
       "6                    Egyptian Fast Food Oriental   21073  \n",
       "7              Egyptian Foul we Ta3meya Oriental    9875  \n",
       "8                    Syrian Fast Food Sandwiches   46995  \n",
       "9                      Syrian Fast Food Shawerma    8097  \n",
       "10  Egyptian Foul we Ta3meya Oriental Sandwiches   24993  \n",
       "11                          Syrian Chicken Grill  101822  "
      ]
     },
     "execution_count": 19,
     "metadata": {},
     "output_type": "execute_result"
    }
   ],
   "source": [
    "df"
   ]
  },
  {
   "cell_type": "code",
   "execution_count": 29,
   "id": "03bb025e",
   "metadata": {},
   "outputs": [
    {
     "ename": "WebDriverException",
     "evalue": "Message: unknown error: net::ERR_NAME_NOT_RESOLVED\n  (Session info: chrome=110.0.5481.178)\nStacktrace:\nBacktrace:\n\t(No symbol) [0x00F437D3]\n\t(No symbol) [0x00ED8B81]\n\t(No symbol) [0x00DDB36D]\n\t(No symbol) [0x00DD772D]\n\t(No symbol) [0x00DCDC65]\n\t(No symbol) [0x00DCF033]\n\t(No symbol) [0x00DCDF02]\n\t(No symbol) [0x00DCD324]\n\t(No symbol) [0x00DCD241]\n\t(No symbol) [0x00DCBC95]\n\t(No symbol) [0x00DCC518]\n\t(No symbol) [0x00DDCF4C]\n\t(No symbol) [0x00E41E01]\n\t(No symbol) [0x00E2B41C]\n\t(No symbol) [0x00E41215]\n\t(No symbol) [0x00E2B216]\n\t(No symbol) [0x00E00D97]\n\t(No symbol) [0x00E0253D]\n\tGetHandleVerifier [0x011BABF2+2510930]\n\tGetHandleVerifier [0x011E8EC1+2700065]\n\tGetHandleVerifier [0x011EC86C+2714828]\n\tGetHandleVerifier [0x00FF3480+645344]\n\t(No symbol) [0x00EE0FD2]\n\t(No symbol) [0x00EE6C68]\n\t(No symbol) [0x00EE6D4B]\n\t(No symbol) [0x00EF0D6B]\n\tBaseThreadInitThunk [0x75FB7D69+25]\n\tRtlInitializeExceptionChain [0x772ABB9B+107]\n\tRtlClearBits [0x772ABB1F+191]\n",
     "output_type": "error",
     "traceback": [
      "\u001b[1;31m---------------------------------------------------------------------------\u001b[0m",
      "\u001b[1;31mWebDriverException\u001b[0m                        Traceback (most recent call last)",
      "\u001b[1;32m~\\AppData\\Local\\Temp/ipykernel_7792/3617661450.py\u001b[0m in \u001b[0;36m<module>\u001b[1;34m\u001b[0m\n\u001b[0;32m      1\u001b[0m \u001b[0mc\u001b[0m \u001b[1;33m=\u001b[0m \u001b[1;36m0\u001b[0m\u001b[1;33m\u001b[0m\u001b[1;33m\u001b[0m\u001b[0m\n\u001b[0;32m      2\u001b[0m \u001b[1;32mfor\u001b[0m \u001b[0mlink\u001b[0m \u001b[1;32min\u001b[0m \u001b[0mlinks\u001b[0m\u001b[1;33m:\u001b[0m\u001b[1;33m\u001b[0m\u001b[1;33m\u001b[0m\u001b[0m\n\u001b[1;32m----> 3\u001b[1;33m     \u001b[0mbrowser\u001b[0m\u001b[1;33m.\u001b[0m\u001b[0mget\u001b[0m\u001b[1;33m(\u001b[0m\u001b[0mlink\u001b[0m\u001b[1;33m)\u001b[0m\u001b[1;33m\u001b[0m\u001b[1;33m\u001b[0m\u001b[0m\n\u001b[0m\u001b[0;32m      4\u001b[0m     \u001b[0mitem_objects\u001b[0m \u001b[1;33m=\u001b[0m \u001b[0mbrowser\u001b[0m\u001b[1;33m.\u001b[0m\u001b[0mfind_elements\u001b[0m\u001b[1;33m(\u001b[0m\u001b[0mBy\u001b[0m\u001b[1;33m.\u001b[0m\u001b[0mCLASS_NAME\u001b[0m\u001b[1;33m,\u001b[0m \u001b[1;34m\"menu-item.clickable-item  \"\u001b[0m\u001b[1;33m)\u001b[0m\u001b[1;33m\u001b[0m\u001b[1;33m\u001b[0m\u001b[0m\n\u001b[0;32m      5\u001b[0m     \u001b[0mitem_list\u001b[0m\u001b[1;33m=\u001b[0m \u001b[1;33m[\u001b[0m \u001b[1;33m]\u001b[0m\u001b[1;33m\u001b[0m\u001b[1;33m\u001b[0m\u001b[0m\n",
      "\u001b[1;32m~\\anaconda3\\lib\\site-packages\\selenium\\webdriver\\remote\\webdriver.py\u001b[0m in \u001b[0;36mget\u001b[1;34m(self, url)\u001b[0m\n\u001b[0;32m    447\u001b[0m     \u001b[1;32mdef\u001b[0m \u001b[0mget\u001b[0m\u001b[1;33m(\u001b[0m\u001b[0mself\u001b[0m\u001b[1;33m,\u001b[0m \u001b[0murl\u001b[0m\u001b[1;33m:\u001b[0m \u001b[0mstr\u001b[0m\u001b[1;33m)\u001b[0m \u001b[1;33m->\u001b[0m \u001b[1;32mNone\u001b[0m\u001b[1;33m:\u001b[0m\u001b[1;33m\u001b[0m\u001b[1;33m\u001b[0m\u001b[0m\n\u001b[0;32m    448\u001b[0m         \u001b[1;34m\"\"\"Loads a web page in the current browser session.\"\"\"\u001b[0m\u001b[1;33m\u001b[0m\u001b[1;33m\u001b[0m\u001b[0m\n\u001b[1;32m--> 449\u001b[1;33m         \u001b[0mself\u001b[0m\u001b[1;33m.\u001b[0m\u001b[0mexecute\u001b[0m\u001b[1;33m(\u001b[0m\u001b[0mCommand\u001b[0m\u001b[1;33m.\u001b[0m\u001b[0mGET\u001b[0m\u001b[1;33m,\u001b[0m \u001b[1;33m{\u001b[0m\u001b[1;34m\"url\"\u001b[0m\u001b[1;33m:\u001b[0m \u001b[0murl\u001b[0m\u001b[1;33m}\u001b[0m\u001b[1;33m)\u001b[0m\u001b[1;33m\u001b[0m\u001b[1;33m\u001b[0m\u001b[0m\n\u001b[0m\u001b[0;32m    450\u001b[0m \u001b[1;33m\u001b[0m\u001b[0m\n\u001b[0;32m    451\u001b[0m     \u001b[1;33m@\u001b[0m\u001b[0mproperty\u001b[0m\u001b[1;33m\u001b[0m\u001b[1;33m\u001b[0m\u001b[0m\n",
      "\u001b[1;32m~\\anaconda3\\lib\\site-packages\\selenium\\webdriver\\remote\\webdriver.py\u001b[0m in \u001b[0;36mexecute\u001b[1;34m(self, driver_command, params)\u001b[0m\n\u001b[0;32m    438\u001b[0m         \u001b[0mresponse\u001b[0m \u001b[1;33m=\u001b[0m \u001b[0mself\u001b[0m\u001b[1;33m.\u001b[0m\u001b[0mcommand_executor\u001b[0m\u001b[1;33m.\u001b[0m\u001b[0mexecute\u001b[0m\u001b[1;33m(\u001b[0m\u001b[0mdriver_command\u001b[0m\u001b[1;33m,\u001b[0m \u001b[0mparams\u001b[0m\u001b[1;33m)\u001b[0m\u001b[1;33m\u001b[0m\u001b[1;33m\u001b[0m\u001b[0m\n\u001b[0;32m    439\u001b[0m         \u001b[1;32mif\u001b[0m \u001b[0mresponse\u001b[0m\u001b[1;33m:\u001b[0m\u001b[1;33m\u001b[0m\u001b[1;33m\u001b[0m\u001b[0m\n\u001b[1;32m--> 440\u001b[1;33m             \u001b[0mself\u001b[0m\u001b[1;33m.\u001b[0m\u001b[0merror_handler\u001b[0m\u001b[1;33m.\u001b[0m\u001b[0mcheck_response\u001b[0m\u001b[1;33m(\u001b[0m\u001b[0mresponse\u001b[0m\u001b[1;33m)\u001b[0m\u001b[1;33m\u001b[0m\u001b[1;33m\u001b[0m\u001b[0m\n\u001b[0m\u001b[0;32m    441\u001b[0m             \u001b[0mresponse\u001b[0m\u001b[1;33m[\u001b[0m\u001b[1;34m\"value\"\u001b[0m\u001b[1;33m]\u001b[0m \u001b[1;33m=\u001b[0m \u001b[0mself\u001b[0m\u001b[1;33m.\u001b[0m\u001b[0m_unwrap_value\u001b[0m\u001b[1;33m(\u001b[0m\u001b[0mresponse\u001b[0m\u001b[1;33m.\u001b[0m\u001b[0mget\u001b[0m\u001b[1;33m(\u001b[0m\u001b[1;34m\"value\"\u001b[0m\u001b[1;33m,\u001b[0m \u001b[1;32mNone\u001b[0m\u001b[1;33m)\u001b[0m\u001b[1;33m)\u001b[0m\u001b[1;33m\u001b[0m\u001b[1;33m\u001b[0m\u001b[0m\n\u001b[0;32m    442\u001b[0m             \u001b[1;32mreturn\u001b[0m \u001b[0mresponse\u001b[0m\u001b[1;33m\u001b[0m\u001b[1;33m\u001b[0m\u001b[0m\n",
      "\u001b[1;32m~\\anaconda3\\lib\\site-packages\\selenium\\webdriver\\remote\\errorhandler.py\u001b[0m in \u001b[0;36mcheck_response\u001b[1;34m(self, response)\u001b[0m\n\u001b[0;32m    243\u001b[0m                 \u001b[0malert_text\u001b[0m \u001b[1;33m=\u001b[0m \u001b[0mvalue\u001b[0m\u001b[1;33m[\u001b[0m\u001b[1;34m\"alert\"\u001b[0m\u001b[1;33m]\u001b[0m\u001b[1;33m.\u001b[0m\u001b[0mget\u001b[0m\u001b[1;33m(\u001b[0m\u001b[1;34m\"text\"\u001b[0m\u001b[1;33m)\u001b[0m\u001b[1;33m\u001b[0m\u001b[1;33m\u001b[0m\u001b[0m\n\u001b[0;32m    244\u001b[0m             \u001b[1;32mraise\u001b[0m \u001b[0mexception_class\u001b[0m\u001b[1;33m(\u001b[0m\u001b[0mmessage\u001b[0m\u001b[1;33m,\u001b[0m \u001b[0mscreen\u001b[0m\u001b[1;33m,\u001b[0m \u001b[0mstacktrace\u001b[0m\u001b[1;33m,\u001b[0m \u001b[0malert_text\u001b[0m\u001b[1;33m)\u001b[0m  \u001b[1;31m# type: ignore[call-arg]  # mypy is not smart enough here\u001b[0m\u001b[1;33m\u001b[0m\u001b[1;33m\u001b[0m\u001b[0m\n\u001b[1;32m--> 245\u001b[1;33m         \u001b[1;32mraise\u001b[0m \u001b[0mexception_class\u001b[0m\u001b[1;33m(\u001b[0m\u001b[0mmessage\u001b[0m\u001b[1;33m,\u001b[0m \u001b[0mscreen\u001b[0m\u001b[1;33m,\u001b[0m \u001b[0mstacktrace\u001b[0m\u001b[1;33m)\u001b[0m\u001b[1;33m\u001b[0m\u001b[1;33m\u001b[0m\u001b[0m\n\u001b[0m",
      "\u001b[1;31mWebDriverException\u001b[0m: Message: unknown error: net::ERR_NAME_NOT_RESOLVED\n  (Session info: chrome=110.0.5481.178)\nStacktrace:\nBacktrace:\n\t(No symbol) [0x00F437D3]\n\t(No symbol) [0x00ED8B81]\n\t(No symbol) [0x00DDB36D]\n\t(No symbol) [0x00DD772D]\n\t(No symbol) [0x00DCDC65]\n\t(No symbol) [0x00DCF033]\n\t(No symbol) [0x00DCDF02]\n\t(No symbol) [0x00DCD324]\n\t(No symbol) [0x00DCD241]\n\t(No symbol) [0x00DCBC95]\n\t(No symbol) [0x00DCC518]\n\t(No symbol) [0x00DDCF4C]\n\t(No symbol) [0x00E41E01]\n\t(No symbol) [0x00E2B41C]\n\t(No symbol) [0x00E41215]\n\t(No symbol) [0x00E2B216]\n\t(No symbol) [0x00E00D97]\n\t(No symbol) [0x00E0253D]\n\tGetHandleVerifier [0x011BABF2+2510930]\n\tGetHandleVerifier [0x011E8EC1+2700065]\n\tGetHandleVerifier [0x011EC86C+2714828]\n\tGetHandleVerifier [0x00FF3480+645344]\n\t(No symbol) [0x00EE0FD2]\n\t(No symbol) [0x00EE6C68]\n\t(No symbol) [0x00EE6D4B]\n\t(No symbol) [0x00EF0D6B]\n\tBaseThreadInitThunk [0x75FB7D69+25]\n\tRtlInitializeExceptionChain [0x772ABB9B+107]\n\tRtlClearBits [0x772ABB1F+191]\n"
     ]
    }
   ],
   "source": [
    "c = 0\n",
    "for link in links:\n",
    "    browser.get(link)\n",
    "    item_objects = browser.find_elements(By.CLASS_NAME, \"menu-item.clickable-item  \")\n",
    "    item_list= [ ]\n",
    "    for item in item_objects:\n",
    "        item_list.append(item.text)\n",
    "    \n",
    "    formatted_menu_items = []\n",
    "\n",
    "    for item in item_list:\n",
    "        item_details = item.split('\\n')\n",
    "        if len(item_details) == 5:\n",
    "            menu_item = item_details[0]\n",
    "            description = item_details[1]\n",
    "            price = item_details[-2]\n",
    "            last_price = price.split()[0] + \" EGP\"\n",
    "            likes = item_details[-1]\n",
    "            formatted_menu_items.append([menu_item, description, last_price, likes])\n",
    "        elif len(item_details) == 4:\n",
    "            menu_item = item_details[0]\n",
    "            description = item_details[1]\n",
    "            if description == \"UNAVAILABLE\":\n",
    "                description = \"No Description\"\n",
    "            price = item_details[-2]\n",
    "            last_price = price.split()[0] + \" EGP\"\n",
    "            likes = item_details[-1]\n",
    "            formatted_menu_items.append([menu_item, description, last_price, likes])\n",
    "\n",
    "    df = pd.DataFrame(formatted_menu_items, columns=[\"Menu Item\", \"Description\", \"Price\", \"Likes\"])\n",
    "\n",
    "#     existing_df = pd.read_excel('elmenus_dataset.xlsx', sheet_name='Sheet1')\n",
    "\n",
    "    # Create a new sheet in the same Excel file\n",
    "    with pd.ExcelWriter('elmenus_dataset.xlsx', mode='a') as writer:\n",
    "        df.to_excel(writer, sheet_name=f'{name_list[0]}', index=False)\n",
    "    c+=1"
   ]
  },
  {
   "cell_type": "code",
   "execution_count": null,
   "id": "44f26ddf",
   "metadata": {},
   "outputs": [],
   "source": []
  },
  {
   "cell_type": "code",
   "execution_count": null,
   "id": "4868b107",
   "metadata": {},
   "outputs": [],
   "source": []
  },
  {
   "cell_type": "code",
   "execution_count": null,
   "id": "8bfd591e",
   "metadata": {},
   "outputs": [],
   "source": []
  }
 ],
 "metadata": {
  "kernelspec": {
   "display_name": "Python 3 (ipykernel)",
   "language": "python",
   "name": "python3"
  },
  "language_info": {
   "codemirror_mode": {
    "name": "ipython",
    "version": 3
   },
   "file_extension": ".py",
   "mimetype": "text/x-python",
   "name": "python",
   "nbconvert_exporter": "python",
   "pygments_lexer": "ipython3",
   "version": "3.9.7"
  }
 },
 "nbformat": 4,
 "nbformat_minor": 5
}
