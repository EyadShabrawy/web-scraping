{
 "cells": [
  {
   "cell_type": "code",
   "execution_count": 1,
   "id": "17469116",
   "metadata": {},
   "outputs": [],
   "source": [
    "from selenium import webdriver\n",
    "from selenium.webdriver.common.keys import Keys\n",
    "from selenium.webdriver.chrome.options import Options\n",
    "from selenium.webdriver.common.by import By\n",
    "from selenium.webdriver.chrome import service"
   ]
  },
  {
   "cell_type": "code",
   "execution_count": 2,
   "id": "17b424a0",
   "metadata": {},
   "outputs": [],
   "source": [
    "url=\"https://www.york.ac.uk/research/units/\""
   ]
  },
  {
   "cell_type": "code",
   "execution_count": 3,
   "id": "2307e880",
   "metadata": {},
   "outputs": [],
   "source": [
    "webdriver_service = service.Service(\"C:\\webdrivers\\chromedriver.exe\")"
   ]
  },
  {
   "cell_type": "code",
   "execution_count": 4,
   "id": "d5f062fb",
   "metadata": {},
   "outputs": [],
   "source": [
    "browser = webdriver.Chrome(service = webdriver_service)\n",
    "browser.get(url)"
   ]
  },
  {
   "cell_type": "code",
   "execution_count": 5,
   "id": "479e46c4",
   "metadata": {},
   "outputs": [],
   "source": [
    "dept_objects = browser.find_elements(By.CLASS_NAME, \"u-two-columns\")\n",
    "dept_list= [ ]\n",
    "for dept in dept_objects:\n",
    "    dept_list.append(dept.text)"
   ]
  },
  {
   "cell_type": "code",
   "execution_count": 6,
   "id": "7b9cda15",
   "metadata": {
    "scrolled": true
   },
   "outputs": [
    {
     "data": {
      "text/plain": [
       "['Department of Archaeology\\nSchool of Arts and Creative Technologies\\nDepartment of Biology\\nSchool for Business and Society\\nDepartment of Chemistry\\nDepartment of Computer Science\\nDepartment of Economics and Related Studies\\nDepartment of Education\\nDepartment of English and Related Literature\\nDepartment of Environment and Geography\\nCentre for Health Economics\\nDepartment of Health Sciences\\nDepartment of History\\nDepartment of History of Art\\nHull York Medical School\\nDepartment of Language and Linguistic Science\\nYork Law School\\nDepartment of Mathematics\\nDepartment of Philosophy\\nSchool of Physics, Engineering and Technology\\nDepartment of Politics\\nDepartment of Psychology\\nCentre for Reviews and Dissemination\\nDepartment of Sociology']"
      ]
     },
     "execution_count": 6,
     "metadata": {},
     "output_type": "execute_result"
    }
   ],
   "source": [
    "dept_list"
   ]
  },
  {
   "cell_type": "code",
   "execution_count": 8,
   "id": "24f226e6",
   "metadata": {},
   "outputs": [],
   "source": [
    "dept_list = dept_list[0].split('\\n')"
   ]
  },
  {
   "cell_type": "code",
   "execution_count": 9,
   "id": "ee1dcb2e",
   "metadata": {},
   "outputs": [
    {
     "data": {
      "text/plain": [
       "['Department of Archaeology',\n",
       " 'School of Arts and Creative Technologies',\n",
       " 'Department of Biology',\n",
       " 'School for Business and Society',\n",
       " 'Department of Chemistry',\n",
       " 'Department of Computer Science',\n",
       " 'Department of Economics and Related Studies',\n",
       " 'Department of Education',\n",
       " 'Department of English and Related Literature',\n",
       " 'Department of Environment and Geography',\n",
       " 'Centre for Health Economics',\n",
       " 'Department of Health Sciences',\n",
       " 'Department of History',\n",
       " 'Department of History of Art',\n",
       " 'Hull York Medical School',\n",
       " 'Department of Language and Linguistic Science',\n",
       " 'York Law School',\n",
       " 'Department of Mathematics',\n",
       " 'Department of Philosophy',\n",
       " 'School of Physics, Engineering and Technology',\n",
       " 'Department of Politics',\n",
       " 'Department of Psychology',\n",
       " 'Centre for Reviews and Dissemination',\n",
       " 'Department of Sociology']"
      ]
     },
     "execution_count": 9,
     "metadata": {},
     "output_type": "execute_result"
    }
   ],
   "source": [
    "dept_list"
   ]
  },
  {
   "cell_type": "code",
   "execution_count": 10,
   "id": "2537aba1",
   "metadata": {},
   "outputs": [],
   "source": [
    "# Adding institute IDs that offer the departments\n",
    "\n",
    "# List of IDs from 10 to 10 repeated twice\n",
    "institute_list = list(range(1, 11)) * 2\n",
    "\n",
    "# Add IDs from 1 to 4 to make up the total of 24 IDs\n",
    "institute_list += list(range(1, 5))\n",
    "\n",
    "# Shuffle the IDs so it is random\n",
    "from random import shuffle\n",
    "shuffle(institute_list)"
   ]
  },
  {
   "cell_type": "code",
   "execution_count": 11,
   "id": "d99c0955",
   "metadata": {},
   "outputs": [
    {
     "data": {
      "text/plain": [
       "[2, 4, 7, 9, 1, 2, 10, 8, 1, 6, 6, 5, 4, 1, 4, 5, 10, 9, 2, 3, 8, 7, 3, 3]"
      ]
     },
     "execution_count": 11,
     "metadata": {},
     "output_type": "execute_result"
    }
   ],
   "source": [
    "institute_list"
   ]
  },
  {
   "cell_type": "code",
   "execution_count": 12,
   "id": "79d06aec",
   "metadata": {},
   "outputs": [],
   "source": [
    "# Adding degree IDs that the departments offer\n",
    "\n",
    "# List of IDs from 1 to 3 repeated eight times\n",
    "degree_list = list(range(1, 4)) * 8\n",
    "\n",
    "\n",
    "# Shuffle the IDs so it is random\n",
    "shuffle(degree_list)"
   ]
  },
  {
   "cell_type": "code",
   "execution_count": 14,
   "id": "3868eabd",
   "metadata": {},
   "outputs": [],
   "source": [
    "import pandas as pd\n",
    "data = {\n",
    "    \"InstituteID\": institute_list,\n",
    "    \"Name\": dept_list,\n",
    "    \"DegreeID\": degree_list\n",
    "}"
   ]
  },
  {
   "cell_type": "code",
   "execution_count": 15,
   "id": "0195ab8c",
   "metadata": {},
   "outputs": [],
   "source": [
    "df = pd.DataFrame.from_dict(data)"
   ]
  },
  {
   "cell_type": "code",
   "execution_count": 16,
   "id": "e47c8d75",
   "metadata": {},
   "outputs": [],
   "source": [
    "df.index += 1\n",
    "df.reset_index(inplace=True)\n",
    "df.rename(columns={'index': 'DepartmentID'}, inplace=True)"
   ]
  },
  {
   "cell_type": "code",
   "execution_count": 17,
   "id": "7cb3c824",
   "metadata": {},
   "outputs": [
    {
     "data": {
      "text/html": [
       "<div>\n",
       "<style scoped>\n",
       "    .dataframe tbody tr th:only-of-type {\n",
       "        vertical-align: middle;\n",
       "    }\n",
       "\n",
       "    .dataframe tbody tr th {\n",
       "        vertical-align: top;\n",
       "    }\n",
       "\n",
       "    .dataframe thead th {\n",
       "        text-align: right;\n",
       "    }\n",
       "</style>\n",
       "<table border=\"1\" class=\"dataframe\">\n",
       "  <thead>\n",
       "    <tr style=\"text-align: right;\">\n",
       "      <th></th>\n",
       "      <th>DepartmentID</th>\n",
       "      <th>InstituteID</th>\n",
       "      <th>Name</th>\n",
       "      <th>DegreeID</th>\n",
       "    </tr>\n",
       "  </thead>\n",
       "  <tbody>\n",
       "    <tr>\n",
       "      <th>0</th>\n",
       "      <td>1</td>\n",
       "      <td>2</td>\n",
       "      <td>Department of Archaeology</td>\n",
       "      <td>3</td>\n",
       "    </tr>\n",
       "    <tr>\n",
       "      <th>1</th>\n",
       "      <td>2</td>\n",
       "      <td>4</td>\n",
       "      <td>School of Arts and Creative Technologies</td>\n",
       "      <td>1</td>\n",
       "    </tr>\n",
       "    <tr>\n",
       "      <th>2</th>\n",
       "      <td>3</td>\n",
       "      <td>7</td>\n",
       "      <td>Department of Biology</td>\n",
       "      <td>2</td>\n",
       "    </tr>\n",
       "    <tr>\n",
       "      <th>3</th>\n",
       "      <td>4</td>\n",
       "      <td>9</td>\n",
       "      <td>School for Business and Society</td>\n",
       "      <td>1</td>\n",
       "    </tr>\n",
       "    <tr>\n",
       "      <th>4</th>\n",
       "      <td>5</td>\n",
       "      <td>1</td>\n",
       "      <td>Department of Chemistry</td>\n",
       "      <td>1</td>\n",
       "    </tr>\n",
       "    <tr>\n",
       "      <th>5</th>\n",
       "      <td>6</td>\n",
       "      <td>2</td>\n",
       "      <td>Department of Computer Science</td>\n",
       "      <td>3</td>\n",
       "    </tr>\n",
       "    <tr>\n",
       "      <th>6</th>\n",
       "      <td>7</td>\n",
       "      <td>10</td>\n",
       "      <td>Department of Economics and Related Studies</td>\n",
       "      <td>3</td>\n",
       "    </tr>\n",
       "    <tr>\n",
       "      <th>7</th>\n",
       "      <td>8</td>\n",
       "      <td>8</td>\n",
       "      <td>Department of Education</td>\n",
       "      <td>3</td>\n",
       "    </tr>\n",
       "    <tr>\n",
       "      <th>8</th>\n",
       "      <td>9</td>\n",
       "      <td>1</td>\n",
       "      <td>Department of English and Related Literature</td>\n",
       "      <td>2</td>\n",
       "    </tr>\n",
       "    <tr>\n",
       "      <th>9</th>\n",
       "      <td>10</td>\n",
       "      <td>6</td>\n",
       "      <td>Department of Environment and Geography</td>\n",
       "      <td>3</td>\n",
       "    </tr>\n",
       "    <tr>\n",
       "      <th>10</th>\n",
       "      <td>11</td>\n",
       "      <td>6</td>\n",
       "      <td>Centre for Health Economics</td>\n",
       "      <td>3</td>\n",
       "    </tr>\n",
       "    <tr>\n",
       "      <th>11</th>\n",
       "      <td>12</td>\n",
       "      <td>5</td>\n",
       "      <td>Department of Health Sciences</td>\n",
       "      <td>1</td>\n",
       "    </tr>\n",
       "    <tr>\n",
       "      <th>12</th>\n",
       "      <td>13</td>\n",
       "      <td>4</td>\n",
       "      <td>Department of History</td>\n",
       "      <td>1</td>\n",
       "    </tr>\n",
       "    <tr>\n",
       "      <th>13</th>\n",
       "      <td>14</td>\n",
       "      <td>1</td>\n",
       "      <td>Department of History of Art</td>\n",
       "      <td>2</td>\n",
       "    </tr>\n",
       "    <tr>\n",
       "      <th>14</th>\n",
       "      <td>15</td>\n",
       "      <td>4</td>\n",
       "      <td>Hull York Medical School</td>\n",
       "      <td>2</td>\n",
       "    </tr>\n",
       "    <tr>\n",
       "      <th>15</th>\n",
       "      <td>16</td>\n",
       "      <td>5</td>\n",
       "      <td>Department of Language and Linguistic Science</td>\n",
       "      <td>2</td>\n",
       "    </tr>\n",
       "    <tr>\n",
       "      <th>16</th>\n",
       "      <td>17</td>\n",
       "      <td>10</td>\n",
       "      <td>York Law School</td>\n",
       "      <td>2</td>\n",
       "    </tr>\n",
       "    <tr>\n",
       "      <th>17</th>\n",
       "      <td>18</td>\n",
       "      <td>9</td>\n",
       "      <td>Department of Mathematics</td>\n",
       "      <td>1</td>\n",
       "    </tr>\n",
       "    <tr>\n",
       "      <th>18</th>\n",
       "      <td>19</td>\n",
       "      <td>2</td>\n",
       "      <td>Department of Philosophy</td>\n",
       "      <td>3</td>\n",
       "    </tr>\n",
       "    <tr>\n",
       "      <th>19</th>\n",
       "      <td>20</td>\n",
       "      <td>3</td>\n",
       "      <td>School of Physics, Engineering and Technology</td>\n",
       "      <td>2</td>\n",
       "    </tr>\n",
       "    <tr>\n",
       "      <th>20</th>\n",
       "      <td>21</td>\n",
       "      <td>8</td>\n",
       "      <td>Department of Politics</td>\n",
       "      <td>1</td>\n",
       "    </tr>\n",
       "    <tr>\n",
       "      <th>21</th>\n",
       "      <td>22</td>\n",
       "      <td>7</td>\n",
       "      <td>Department of Psychology</td>\n",
       "      <td>3</td>\n",
       "    </tr>\n",
       "    <tr>\n",
       "      <th>22</th>\n",
       "      <td>23</td>\n",
       "      <td>3</td>\n",
       "      <td>Centre for Reviews and Dissemination</td>\n",
       "      <td>1</td>\n",
       "    </tr>\n",
       "    <tr>\n",
       "      <th>23</th>\n",
       "      <td>24</td>\n",
       "      <td>3</td>\n",
       "      <td>Department of Sociology</td>\n",
       "      <td>2</td>\n",
       "    </tr>\n",
       "  </tbody>\n",
       "</table>\n",
       "</div>"
      ],
      "text/plain": [
       "    DepartmentID  InstituteID                                           Name  \\\n",
       "0              1            2                      Department of Archaeology   \n",
       "1              2            4       School of Arts and Creative Technologies   \n",
       "2              3            7                          Department of Biology   \n",
       "3              4            9                School for Business and Society   \n",
       "4              5            1                        Department of Chemistry   \n",
       "5              6            2                 Department of Computer Science   \n",
       "6              7           10    Department of Economics and Related Studies   \n",
       "7              8            8                        Department of Education   \n",
       "8              9            1   Department of English and Related Literature   \n",
       "9             10            6        Department of Environment and Geography   \n",
       "10            11            6                    Centre for Health Economics   \n",
       "11            12            5                  Department of Health Sciences   \n",
       "12            13            4                          Department of History   \n",
       "13            14            1                   Department of History of Art   \n",
       "14            15            4                       Hull York Medical School   \n",
       "15            16            5  Department of Language and Linguistic Science   \n",
       "16            17           10                                York Law School   \n",
       "17            18            9                      Department of Mathematics   \n",
       "18            19            2                       Department of Philosophy   \n",
       "19            20            3  School of Physics, Engineering and Technology   \n",
       "20            21            8                         Department of Politics   \n",
       "21            22            7                       Department of Psychology   \n",
       "22            23            3           Centre for Reviews and Dissemination   \n",
       "23            24            3                        Department of Sociology   \n",
       "\n",
       "    DegreeID  \n",
       "0          3  \n",
       "1          1  \n",
       "2          2  \n",
       "3          1  \n",
       "4          1  \n",
       "5          3  \n",
       "6          3  \n",
       "7          3  \n",
       "8          2  \n",
       "9          3  \n",
       "10         3  \n",
       "11         1  \n",
       "12         1  \n",
       "13         2  \n",
       "14         2  \n",
       "15         2  \n",
       "16         2  \n",
       "17         1  \n",
       "18         3  \n",
       "19         2  \n",
       "20         1  \n",
       "21         3  \n",
       "22         1  \n",
       "23         2  "
      ]
     },
     "execution_count": 17,
     "metadata": {},
     "output_type": "execute_result"
    }
   ],
   "source": [
    "df"
   ]
  },
  {
   "cell_type": "code",
   "execution_count": 18,
   "id": "03bb025e",
   "metadata": {},
   "outputs": [],
   "source": [
    "df.to_csv(\"Department.csv\", index = False)"
   ]
  },
  {
   "cell_type": "code",
   "execution_count": null,
   "id": "49baf5c2",
   "metadata": {},
   "outputs": [],
   "source": []
  }
 ],
 "metadata": {
  "kernelspec": {
   "display_name": "Python 3 (ipykernel)",
   "language": "python",
   "name": "python3"
  },
  "language_info": {
   "codemirror_mode": {
    "name": "ipython",
    "version": 3
   },
   "file_extension": ".py",
   "mimetype": "text/x-python",
   "name": "python",
   "nbconvert_exporter": "python",
   "pygments_lexer": "ipython3",
   "version": "3.9.7"
  }
 },
 "nbformat": 4,
 "nbformat_minor": 5
}
